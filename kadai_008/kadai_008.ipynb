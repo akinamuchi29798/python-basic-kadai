{
  "nbformat": 4,
  "nbformat_minor": 0,
  "metadata": {
    "colab": {
      "provenance": []
    },
    "kernelspec": {
      "name": "python3",
      "display_name": "Python 3"
    },
    "language_info": {
      "name": "python"
    }
  },
  "cells": [
    {
      "cell_type": "code",
      "execution_count": 13,
      "metadata": {
        "colab": {
          "base_uri": "https://localhost:8080/"
        },
        "id": "npPkksoRzo4i",
        "outputId": "e95b2bce-114c-454a-f1b7-d56e2761324a"
      },
      "outputs": [
        {
          "output_type": "stream",
          "name": "stdout",
          "text": [
            "651\n",
            "Fizz\n"
          ]
        }
      ],
      "source": [
        "import random\n",
        "\n",
        "var = random.randint(0, 1000)\n",
        "\n",
        "print(var)\n",
        "\n",
        "if var % 3 == 0 and var % 5 == 0:\n",
        "  print(\"FizzBuzz\")\n",
        "elif var % 5 == 0:\n",
        "  print(\"Buzz\")\n",
        "elif var % 3 == 0:\n",
        "  print(\"Fizz\")\n",
        "else:\n",
        "  print(var)"
      ]
    }
  ]
}
