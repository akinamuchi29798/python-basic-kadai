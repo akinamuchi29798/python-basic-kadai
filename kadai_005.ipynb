{
  "nbformat": 4,
  "nbformat_minor": 0,
  "metadata": {
    "colab": {
      "provenance": [],
      "gpuType": "T4"
    },
    "kernelspec": {
      "name": "python3",
      "display_name": "Python 3"
    },
    "language_info": {
      "name": "python"
    }
  },
  "cells": [
    {
      "cell_type": "code",
      "source": [
        "# 台形の寸法（cm）\n",
        "top = 10\n",
        "under = 20\n",
        "height = 5\n",
        "\n",
        "# 公式：台形の面積＝（上辺+下辺）×高さ÷2\n",
        "area = (top + under) * height / 2\n",
        "\n",
        "# 結果\n",
        "print(f\"{area}㎠\")\n",
        "\n"
      ],
      "metadata": {
        "colab": {
          "base_uri": "https://localhost:8080/"
        },
        "id": "1aoNtTbml30-",
        "outputId": "b62cdb42-979e-48e1-ca4a-0a67abca3281"
      },
      "execution_count": null,
      "outputs": [
        {
          "output_type": "stream",
          "name": "stdout",
          "text": [
            "75.0㎠\n"
          ]
        }
      ]
    }
  ]
}