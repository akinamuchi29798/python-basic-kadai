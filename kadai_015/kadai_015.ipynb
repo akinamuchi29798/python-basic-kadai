{
  "nbformat": 4,
  "nbformat_minor": 0,
  "metadata": {
    "colab": {
      "provenance": []
    },
    "kernelspec": {
      "name": "python3",
      "display_name": "Python 3"
    },
    "language_info": {
      "name": "python"
    }
  },
  "cells": [
    {
      "cell_type": "code",
      "execution_count": 7,
      "metadata": {
        "colab": {
          "base_uri": "https://localhost:8080/"
        },
        "id": "bYG7b12dpCDn",
        "outputId": "608c15a7-8bea-4616-ad42-27f17de01fe5"
      },
      "outputs": [
        {
          "output_type": "stream",
          "name": "stdout",
          "text": [
            "名前: サブロー 年齢: 29\n"
          ]
        }
      ],
      "source": [
        "class Human():\n",
        "  def __init__(self, name, age):\n",
        "    self.name = name\n",
        "    self.age = age\n",
        "\n",
        "  def printinfo(self):\n",
        "    print(f\"名前: {self.name} 年齢: {self.age}\")\n",
        "\n",
        "person = Human(\"サブロー\", 29)\n",
        "\n",
        "person.printinfo()"
      ]
    }
  ]
}