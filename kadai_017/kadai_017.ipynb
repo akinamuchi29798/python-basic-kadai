{
  "nbformat": 4,
  "nbformat_minor": 0,
  "metadata": {
    "colab": {
      "provenance": []
    },
    "kernelspec": {
      "name": "python3",
      "display_name": "Python 3"
    },
    "language_info": {
      "name": "python"
    }
  },
  "cells": [
    {
      "cell_type": "code",
      "execution_count": 1,
      "metadata": {
        "colab": {
          "base_uri": "https://localhost:8080/"
        },
        "id": "3r7c5-GHxBVi",
        "outputId": "39328b03-b2a6-4ff9-e36e-05a439b49526"
      },
      "outputs": [
        {
          "output_type": "stream",
          "name": "stdout",
          "text": [
            "コナンは大人ではありません。\n",
            "蘭は大人ではありません。\n",
            "小五郎は大人です。\n",
            "優作は大人です。\n"
          ]
        }
      ],
      "source": [
        "class Human:\n",
        "    def __init__(self, name, age):\n",
        "        self.name = name\n",
        "        self.age = age\n",
        "\n",
        "    def check_adult(self):\n",
        "        if self.age >= 20:\n",
        "            print(f\"{self.name}は大人です。\")\n",
        "        else:\n",
        "            print(f\"{self.name}は大人ではありません。\")\n",
        "\n",
        "# 複数のHumanインスタンスを生成してリストに追加\n",
        "humans = [\n",
        "    Human(\"コナン\", 7),\n",
        "    Human(\"蘭\", 17),\n",
        "    Human(\"小五郎\", 41),\n",
        "    Human(\"優作\", 42)\n",
        "]\n",
        "\n",
        "# リストの要素数分だけcheck_adultメソッドを呼び出す\n",
        "for human in humans:\n",
        "    human.check_adult()\n"
      ]
    }
  ]
}