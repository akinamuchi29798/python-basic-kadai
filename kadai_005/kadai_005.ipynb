{
  "nbformat": 4,
  "nbformat_minor": 0,
  "metadata": {
    "colab": {
      "provenance": [],
      "gpuType": "T4"
    },
    "kernelspec": {
      "name": "python3",
      "display_name": "Python 3"
    },
    "language_info": {
      "name": "python"
    }
  },
  "cells": [
    {
      "cell_type": "code",
      "source": [
        "# 台形の寸法（cm）\n",
        "top = 10\n",
        "under = 20\n",
        "height = 5\n",
        "\n",
        "# 公式：台形の面積＝（上辺+下辺）×高さ÷2\n",
        "area = (top + under) * height / 2\n",
        "\n",
        "# 結果\n",
        "print(f\"{area}cm²\")\n",
        "\n"
      ],
      "metadata": {
        "colab": {
          "base_uri": "https://localhost:8080/"
        },
        "id": "1aoNtTbml30-",
        "outputId": "39f3d8c3-10e8-4064-88cf-519217a9922b"
      },
      "execution_count": 2,
      "outputs": [
        {
          "output_type": "stream",
          "name": "stdout",
          "text": [
            "75.0cm²\n"
          ]
        }
      ]
    }
  ]
}