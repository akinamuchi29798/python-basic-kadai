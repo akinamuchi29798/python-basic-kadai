{
  "nbformat": 4,
  "nbformat_minor": 0,
  "metadata": {
    "colab": {
      "provenance": []
    },
    "kernelspec": {
      "name": "python3",
      "display_name": "Python 3"
    },
    "language_info": {
      "name": "python"
    }
  },
  "cells": [
    {
      "cell_type": "code",
      "execution_count": 2,
      "metadata": {
        "colab": {
          "base_uri": "https://localhost:8080/"
        },
        "id": "Un8i6X5XDgYw",
        "outputId": "7904e26e-5353-4d5d-c9a8-87694f88558d"
      },
      "outputs": [
        {
          "output_type": "stream",
          "name": "stdout",
          "text": [
            "商品の合計金額は 121 円です。\n"
          ]
        }
      ],
      "source": [
        "def calculate_total_price(price, tax_rate):\n",
        "  tax_amount = price * (tax_rate / 100)\n",
        "  total_price = price + tax_amount\n",
        "  return int(total_price)\n",
        "\n",
        "price = 110\n",
        "tax_rate = 10\n",
        "\n",
        "total_price = calculate_total_price(price, tax_rate)\n",
        "print(f\"商品の合計金額は {total_price} 円です。\")"
      ]
    }
  ]
}